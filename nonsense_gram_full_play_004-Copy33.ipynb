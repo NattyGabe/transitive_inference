{
 "cells": [
  {
   "cell_type": "code",
   "execution_count": 1,
   "id": "3b559843",
   "metadata": {},
   "outputs": [],
   "source": [
    "# randomNG = 'Philox'\n",
    "randomNG = 'PCG64DXSM'\n",
    "# randomNG = 'MT19937'\n",
    "# randomNG = 'SFC64'\n",
    "import importlib\n",
    "\n",
    "pass_abc ='ng_sf00'"
   ]
  },
  {
   "cell_type": "code",
   "execution_count": 2,
   "id": "16007957",
   "metadata": {},
   "outputs": [],
   "source": [
    "import numpy as np\n",
    "import time\n",
    "import datetime\n",
    "import numba\n",
    "import itertools\n",
    "from scipy.stats import betabinom\n",
    "import concurrent.futures\n",
    "import math\n",
    "import numpy.random\n",
    "bitNG = getattr(numpy.random, randomNG)\n",
    "from numpy.random import Generator, SeedSequence\n",
    "from nonsense_grammar_FNs_004 import play_sequence"
   ]
  },
  {
   "cell_type": "code",
   "execution_count": 3,
   "id": "4ddd200f",
   "metadata": {},
   "outputs": [],
   "source": [
    "\n",
    "runs = 1000\n",
    "\n",
    "rein1 = 4\n",
    "rein2 = 0\n",
    "punish1 = 0\n",
    "punish2 = -10\n",
    "iteration_block_length = 10**4\n",
    "timesteps = 10**7\n",
    "rand_nsteps = 10 # how many timesteps do we generate random values for at once\n",
    "\n",
    "\n",
    "grammar_length = 3\n",
    "grammar_num_terms = 5\n",
    "# number of grammar types that we'll test on\n",
    "num_gtest = 1 #differing from scratach which used 3 here\n",
    "# number of terms that will be novel for the test\n",
    "num_ttest = 2\n",
    "# maximum magnitude that can be transmitted will determine number of buckets for each type of stimuli\n",
    "maxmagnitude = 10\n",
    "# getting that beta binomial for the sigweights\n",
    "inertia = 1\n",
    "alpha = 1\n",
    "beta = 1\n",
    "\n"
   ]
  },
  {
   "cell_type": "code",
   "execution_count": 4,
   "id": "ddb0b4e6",
   "metadata": {},
   "outputs": [
    {
     "name": "stdout",
     "output_type": "stream",
     "text": [
      "*********************************************\n",
      "*********************************************\n",
      "meancumsuc_mp 9886765.17\n",
      "meanfinalsuc_mp 994.776\n",
      "meantestAsuc_mp 616.094\n",
      "meantestBsuc_mp 735.415\n",
      "Finished in 10.433333333333334 minutes\n"
     ]
    }
   ],
   "source": [
    "start = time.perf_counter()\n",
    "\n",
    "sg = SeedSequence()\n",
    "rgs = [Generator(bitNG(s)) for s in sg.spawn(runs)]\n",
    "\n",
    "thrds = 25\n",
    "\n",
    "final_mp = np.zeros((runs, 4))\n",
    "print('*********************************************')\n",
    "print('*********************************************')\n",
    "\n",
    "inputs = []\n",
    "\n",
    "with concurrent.futures.ProcessPoolExecutor(max_workers=thrds) as executor:\n",
    "    future_to_nongram_full = {executor.submit(play_sequence, rein1, rein2, punish1, punish2, iteration_block_length, timesteps, rand_nsteps, grammar_length, grammar_num_terms, num_gtest, num_ttest, maxmagnitude, inertia, alpha, beta, rgs, r): inputs for r in range(runs)}\n",
    "    for future in concurrent.futures.as_completed(future_to_nongram_full):\n",
    "        inputs = future_to_nongram_full[future]\n",
    "        try:\n",
    "            data = future.result()\n",
    "        except Exception as exc:\n",
    "            print(f'generated an exception: y? and {exc}')\n",
    "        else:\n",
    "            final_mp[data[4]] = data[0:4]\n",
    "\n",
    "\n",
    "\n",
    "final_mp = np.asarray(final_mp)\n",
    "cumsuc_mp = np.asarray(final_mp[:,0])\n",
    "finalsuc_mp = np.asarray(final_mp[:,1])\n",
    "testAsuc_mp = np.asarray(final_mp[:,2])\n",
    "testBsuc_mp = np.asarray(final_mp[:,3])\n",
    "\n",
    "meancumsuc_mp = np.sum(cumsuc_mp)/runs\n",
    "meanfinalsuc_mp = np.sum(finalsuc_mp)/runs\n",
    "meantestAsuc_mp = np.sum(testAsuc_mp)/runs\n",
    "meantestBsuc_mp = np.sum(testBsuc_mp)/runs\n",
    "\n",
    "print(f'meancumsuc_mp {meancumsuc_mp}')\n",
    "print(f'meanfinalsuc_mp {meanfinalsuc_mp}')\n",
    "print(f'meantestAsuc_mp {meantestAsuc_mp}')\n",
    "print(f'meantestBsuc_mp {meantestBsuc_mp}')\n",
    "\n",
    "finish = time.perf_counter()\n",
    "print(f'Finished in {round(finish-start,0)/60} minutes')"
   ]
  },
  {
   "cell_type": "code",
   "execution_count": 19,
   "id": "fb4eea17",
   "metadata": {},
   "outputs": [
    {
     "name": "stdout",
     "output_type": "stream",
     "text": [
      "335\n"
     ]
    }
   ],
   "source": [
    "cutoff = 900\n",
    "final_test_count = 0\n",
    "for cumsum in testBsuc_mp:\n",
    "    if cumsum > cutoff:\n",
    "        final_test_count += 1\n",
    "print(final_test_count)"
   ]
  },
  {
   "cell_type": "code",
   "execution_count": 14,
   "id": "e33a9924",
   "metadata": {},
   "outputs": [
    {
     "name": "stdout",
     "output_type": "stream",
     "text": [
      "1000\n"
     ]
    }
   ],
   "source": [
    "cutoff = 850\n",
    "final_test_count = 0\n",
    "for cumsum in finalsuc_mp:\n",
    "    if cumsum > cutoff:\n",
    "        final_test_count += 1\n",
    "print(final_test_count)"
   ]
  },
  {
   "cell_type": "code",
   "execution_count": 13,
   "id": "98b7cceb",
   "metadata": {},
   "outputs": [
    {
     "name": "stdout",
     "output_type": "stream",
     "text": [
      "911\n"
     ]
    }
   ],
   "source": [
    "cutoff = 990\n",
    "final_test_count = 0\n",
    "for cumsum in finalsuc_mp:\n",
    "    if cumsum > cutoff:\n",
    "        final_test_count += 1\n",
    "print(final_test_count)"
   ]
  },
  {
   "cell_type": "code",
   "execution_count": null,
   "id": "760d9e39",
   "metadata": {},
   "outputs": [],
   "source": []
  }
 ],
 "metadata": {
  "kernelspec": {
   "display_name": "Python 3 (ipykernel)",
   "language": "python",
   "name": "python3"
  },
  "language_info": {
   "codemirror_mode": {
    "name": "ipython",
    "version": 3
   },
   "file_extension": ".py",
   "mimetype": "text/x-python",
   "name": "python",
   "nbconvert_exporter": "python",
   "pygments_lexer": "ipython3",
   "version": "3.9.16"
  }
 },
 "nbformat": 4,
 "nbformat_minor": 5
}
